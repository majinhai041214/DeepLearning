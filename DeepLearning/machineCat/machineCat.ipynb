{
 "cells": [
  {
   "metadata": {},
   "cell_type": "markdown",
   "source": [
    "# This is a sample Jupyter Notebook\n",
    "\n",
    "Below is an example of a code cell. \n",
    "Put your cursor into the cell and press Shift+Enter to execute it and select the next one, or click !here goes the icon of the corresponding button in the gutter! button.\n",
    "To debug a cell, press Alt+Shift+Enter, or click !here goes the icon of the corresponding button in the gutter! button.\n",
    "\n",
    "Press Double Shift to search everywhere for classes, files, tool windows, actions, and settings.\n",
    "\n",
    "To learn more about Jupyter Notebooks in PyCharm, see [help](https://www.jetbrains.com/help/pycharm/jupyter-notebook-support.html).\n",
    "For an overview of PyCharm, go to Help -> Learn IDE features or refer to [our documentation](https://www.jetbrains.com/help/pycharm/getting-started.html)."
   ],
   "id": "8a77807f92f26ee"
  },
  {
   "metadata": {
    "ExecuteTime": {
     "end_time": "2024-07-03T16:17:43.929731Z",
     "start_time": "2024-07-03T16:17:43.320257Z"
    }
   },
   "cell_type": "code",
   "source": [
    "import numpy as np\n",
    "import matplotlib.pyplot as plt\n",
    "import h5py\n",
    "from lr_utils import load_dataset"
   ],
   "id": "fbc121e30a2defb3",
   "outputs": [],
   "execution_count": 14
  },
  {
   "metadata": {
    "ExecuteTime": {
     "end_time": "2024-07-03T16:17:45.369797Z",
     "start_time": "2024-07-03T16:17:45.363633Z"
    }
   },
   "cell_type": "code",
   "source": [
    "import h5py\n",
    "\n",
    "# 打开H5文件\n",
    "with h5py.File(\"D://Python//DeepLearning//datasets//test_catvnoncat.h5\", 'r') as file:\n",
    "    # 列出所有数据集\n",
    "    for dataset_name in file.keys():\n",
    "        print(dataset_name)\n",
    "        # 读取数据集内容\n",
    "        data = file[dataset_name][:] # 假设数据集是二维数组\n",
    "        print(data)"
   ],
   "id": "95300612a7d816c",
   "outputs": [
    {
     "name": "stdout",
     "output_type": "stream",
     "text": [
      "list_classes\n",
      "[b'non-cat' b'cat']\n",
      "test_set_x\n",
      "[[[[158 104  83]\n",
      "   [161 106  85]\n",
      "   [162 107  84]\n",
      "   ...\n",
      "   [170 120 100]\n",
      "   [167 121 103]\n",
      "   [172 127 109]]\n",
      "\n",
      "  [[158 103  82]\n",
      "   [160 104  82]\n",
      "   [162 105  83]\n",
      "   ...\n",
      "   [169 118  99]\n",
      "   [164 117  98]\n",
      "   [168 121 104]]\n",
      "\n",
      "  [[158 104  82]\n",
      "   [161 105  82]\n",
      "   [162 105  83]\n",
      "   ...\n",
      "   [173 123 102]\n",
      "   [169 122 104]\n",
      "   [168 122 104]]\n",
      "\n",
      "  ...\n",
      "\n",
      "  [[102  68  52]\n",
      "   [ 44  31  23]\n",
      "   [ 28  23  20]\n",
      "   ...\n",
      "   [163 118 102]\n",
      "   [163 120 103]\n",
      "   [166 121 105]]\n",
      "\n",
      "  [[ 99  67  51]\n",
      "   [ 38  28  22]\n",
      "   [ 30  26  23]\n",
      "   ...\n",
      "   [161 117 100]\n",
      "   [164 121 104]\n",
      "   [168 123 106]]\n",
      "\n",
      "  [[127  95  72]\n",
      "   [ 39  29  22]\n",
      "   [ 30  25  22]\n",
      "   ...\n",
      "   [165 122 105]\n",
      "   [169 126 109]\n",
      "   [173 128 110]]]\n",
      "\n",
      "\n",
      " [[[115 110 111]\n",
      "   [137 129 129]\n",
      "   [155 146 145]\n",
      "   ...\n",
      "   [159 156 157]\n",
      "   [141 141 145]\n",
      "   [121 122 127]]\n",
      "\n",
      "  [[123 118 120]\n",
      "   [143 136 136]\n",
      "   [159 153 150]\n",
      "   ...\n",
      "   [167 164 165]\n",
      "   [151 151 154]\n",
      "   [130 133 137]]\n",
      "\n",
      "  [[135 130 130]\n",
      "   [150 145 141]\n",
      "   [164 159 153]\n",
      "   ...\n",
      "   [173 174 172]\n",
      "   [160 162 162]\n",
      "   [141 144 148]]\n",
      "\n",
      "  ...\n",
      "\n",
      "  [[197 196 205]\n",
      "   [208 209 214]\n",
      "   [215 216 220]\n",
      "   ...\n",
      "   [222 224 229]\n",
      "   [205 208 215]\n",
      "   [185 189 197]]\n",
      "\n",
      "  [[190 192 199]\n",
      "   [203 205 210]\n",
      "   [213 214 218]\n",
      "   ...\n",
      "   [217 220 225]\n",
      "   [198 202 209]\n",
      "   [178 182 191]]\n",
      "\n",
      "  [[183 186 193]\n",
      "   [197 199 205]\n",
      "   [208 210 214]\n",
      "   ...\n",
      "   [212 215 220]\n",
      "   [192 196 203]\n",
      "   [171 176 186]]]\n",
      "\n",
      "\n",
      " [[[255 253 254]\n",
      "   [255 253 254]\n",
      "   [255 253 254]\n",
      "   ...\n",
      "   [197 178 118]\n",
      "   [195 177 116]\n",
      "   [192 176 115]]\n",
      "\n",
      "  [[255 253 254]\n",
      "   [255 253 254]\n",
      "   [255 253 254]\n",
      "   ...\n",
      "   [197 178 120]\n",
      "   [195 176 118]\n",
      "   [193 174 118]]\n",
      "\n",
      "  [[255 253 254]\n",
      "   [255 253 254]\n",
      "   [255 253 254]\n",
      "   ...\n",
      "   [197 177 121]\n",
      "   [194 174 121]\n",
      "   [190 171 122]]\n",
      "\n",
      "  ...\n",
      "\n",
      "  [[ 94  95  97]\n",
      "   [102 104 108]\n",
      "   [115 113 115]\n",
      "   ...\n",
      "   [ 68  67  91]\n",
      "   [ 71  55  80]\n",
      "   [ 64  51  82]]\n",
      "\n",
      "  [[ 68  71  69]\n",
      "   [ 75  79  80]\n",
      "   [ 82  91  91]\n",
      "   ...\n",
      "   [122 103 109]\n",
      "   [114  84  99]\n",
      "   [ 97  72 100]]\n",
      "\n",
      "  [[ 67  86  89]\n",
      "   [ 62  83  90]\n",
      "   [ 47  73  82]\n",
      "   ...\n",
      "   [147 120 125]\n",
      "   [142 110 118]\n",
      "   [133 101 121]]]\n",
      "\n",
      "\n",
      " ...\n",
      "\n",
      "\n",
      " [[[ 41  47  84]\n",
      "   [ 72  78 112]\n",
      "   [103 102 124]\n",
      "   ...\n",
      "   [125 112 119]\n",
      "   [107 101 117]\n",
      "   [ 76  79 109]]\n",
      "\n",
      "  [[ 93  96 119]\n",
      "   [112 109 124]\n",
      "   [130 122 136]\n",
      "   ...\n",
      "   [141 121 118]\n",
      "   [130 112 114]\n",
      "   [122 109 117]]\n",
      "\n",
      "  [[119 114 123]\n",
      "   [133 124 128]\n",
      "   [164 149 145]\n",
      "   ...\n",
      "   [187 160 135]\n",
      "   [157 132 120]\n",
      "   [136 115 109]]\n",
      "\n",
      "  ...\n",
      "\n",
      "  [[233 223 207]\n",
      "   [235 226 218]\n",
      "   [242 236 235]\n",
      "   ...\n",
      "   [164 170 196]\n",
      "   [189 185 196]\n",
      "   [190 182 188]]\n",
      "\n",
      "  [[247 250 248]\n",
      "   [236 238 232]\n",
      "   [219 215 219]\n",
      "   ...\n",
      "   [118 101 117]\n",
      "   [153 134 154]\n",
      "   [174 146 156]]\n",
      "\n",
      "  [[253 254 254]\n",
      "   [246 250 249]\n",
      "   [226 233 234]\n",
      "   ...\n",
      "   [154 111  93]\n",
      "   [176 132 104]\n",
      "   [183 141 116]]]\n",
      "\n",
      "\n",
      " [[[ 18  18  16]\n",
      "   [ 35  36  31]\n",
      "   [ 54  57  52]\n",
      "   ...\n",
      "   [138 140 118]\n",
      "   [139 141 124]\n",
      "   [130 129 114]]\n",
      "\n",
      "  [[ 21  21  18]\n",
      "   [ 44  45  39]\n",
      "   [ 68  74  66]\n",
      "   ...\n",
      "   [128 131 109]\n",
      "   [116 117  98]\n",
      "   [ 95  93  76]]\n",
      "\n",
      "  [[ 30  31  26]\n",
      "   [ 54  58  52]\n",
      "   [ 99 110 104]\n",
      "   ...\n",
      "   [127 129 108]\n",
      "   [113 114  94]\n",
      "   [ 99  99  82]]\n",
      "\n",
      "  ...\n",
      "\n",
      "  [[178 178 163]\n",
      "   [161 163 146]\n",
      "   [170 174 163]\n",
      "   ...\n",
      "   [112 108  85]\n",
      "   [149 150 131]\n",
      "   [180 185 172]]\n",
      "\n",
      "  [[182 183 167]\n",
      "   [172 175 162]\n",
      "   [170 173 162]\n",
      "   ...\n",
      "   [ 88  90  77]\n",
      "   [122 115  89]\n",
      "   [157 154 131]]\n",
      "\n",
      "  [[188 190 179]\n",
      "   [173 175 163]\n",
      "   [160 162 146]\n",
      "   ...\n",
      "   [ 48  50  44]\n",
      "   [103 103  89]\n",
      "   [144 137 108]]]\n",
      "\n",
      "\n",
      " [[[133 163  75]\n",
      "   [ 98 120  44]\n",
      "   [108 132  47]\n",
      "   ...\n",
      "   [ 96 138  97]\n",
      "   [ 96 146 109]\n",
      "   [ 81 132 101]]\n",
      "\n",
      "  [[ 79 102  39]\n",
      "   [ 83 112  33]\n",
      "   [ 76 106  26]\n",
      "   ...\n",
      "   [ 99 149  76]\n",
      "   [ 71 119  62]\n",
      "   [ 58 106  72]]\n",
      "\n",
      "  [[ 35  53  27]\n",
      "   [ 54  74  46]\n",
      "   [ 35  55  17]\n",
      "   ...\n",
      "   [110 157 122]\n",
      "   [ 72 119  89]\n",
      "   [ 81 131 108]]\n",
      "\n",
      "  ...\n",
      "\n",
      "  [[ 76 108  79]\n",
      "   [ 70 110  83]\n",
      "   [ 70 105  84]\n",
      "   ...\n",
      "   [ 25  49  21]\n",
      "   [ 26  53  24]\n",
      "   [ 27  54  28]]\n",
      "\n",
      "  [[109 120  97]\n",
      "   [ 86 116  86]\n",
      "   [ 71 105  79]\n",
      "   ...\n",
      "   [ 17  46  20]\n",
      "   [ 23  49  28]\n",
      "   [ 19  33  18]]\n",
      "\n",
      "  [[ 97 117 100]\n",
      "   [ 70 108  75]\n",
      "   [ 75  99  69]\n",
      "   ...\n",
      "   [  8  33  12]\n",
      "   [ 13  35  18]\n",
      "   [  5  22   5]]]]\n",
      "test_set_y\n",
      "[1 1 1 1 1 0 1 1 1 1 1 1 1 0 0 1 0 1 1 1 1 0 0 1 1 1 1 0 1 0 1 1 1 1 0 0 0\n",
      " 1 0 0 1 1 1 0 0 0 1 1 1 0]\n"
     ]
    }
   ],
   "execution_count": 15
  },
  {
   "metadata": {
    "ExecuteTime": {
     "end_time": "2024-07-03T16:17:46.976638Z",
     "start_time": "2024-07-03T16:17:46.972033Z"
    }
   },
   "cell_type": "code",
   "source": [
    "def load_dataset():\n",
    "    train_dataset = h5py.File(\"D://Python//DeepLearning//datasets//train_catvnoncat.h5\", \"r\")\n",
    "    train_set_x_orig = np.array(train_dataset[\"train_set_x\"][:]) # your train set features\n",
    "    train_set_y_orig = np.array(train_dataset[\"train_set_y\"][:]) # your train set labels\n",
    "\n",
    "    test_dataset = h5py.File(\"D://Python//DeepLearning//datasets//test_catvnoncat.h5\", \"r\")\n",
    "    test_set_x_orig = np.array(test_dataset[\"test_set_x\"][:]) # your test set features\n",
    "    test_set_y_orig = np.array(test_dataset[\"test_set_y\"][:]) # your test set labels\n",
    "\n",
    "    classes = np.array(test_dataset[\"list_classes\"][:]) # the list of classes\n",
    "    \n",
    "    train_set_y_orig = train_set_y_orig.reshape((1, train_set_y_orig.shape[0]))\n",
    "    test_set_y_orig = test_set_y_orig.reshape((1, test_set_y_orig.shape[0]))\n",
    "    \n",
    "    return train_set_x_orig, train_set_y_orig, test_set_x_orig, test_set_y_orig, classes"
   ],
   "id": "31e4de093f0bdc4f",
   "outputs": [],
   "execution_count": 16
  },
  {
   "metadata": {
    "ExecuteTime": {
     "end_time": "2024-07-03T16:17:49.352173Z",
     "start_time": "2024-07-03T16:17:49.345785Z"
    }
   },
   "cell_type": "code",
   "source": "train_set_x_orig , train_set_y , test_set_x_orig , test_set_y , classes = load_dataset()",
   "id": "9e56cd0d28869ecb",
   "outputs": [],
   "execution_count": 17
  },
  {
   "metadata": {
    "ExecuteTime": {
     "end_time": "2024-07-03T16:17:51.203925Z",
     "start_time": "2024-07-03T16:17:51.119299Z"
    }
   },
   "cell_type": "code",
   "source": [
    "index = 25\n",
    "plt.imshow(train_set_x_orig[index])\n",
    "print(\"train_set_y=\" + str(train_set_y[:,index])) #你也可以看一下训练集里面的标签是什么样的。\n",
    "print(str(train_set_y))\n",
    "print(train_set_x_orig.shape)\n",
    "\n"
   ],
   "id": "ca8755d1babef62e",
   "outputs": [
    {
     "name": "stdout",
     "output_type": "stream",
     "text": [
      "train_set_y=[1]\n",
      "[[0 0 1 0 0 0 0 1 0 0 0 1 0 1 1 0 0 0 0 1 0 0 0 0 1 1 0 1 0 1 0 0 0 0 0 0\n",
      "  0 0 1 0 0 1 1 0 0 0 0 1 0 0 1 0 0 0 1 0 1 1 0 1 1 1 0 0 0 0 0 0 1 0 0 1\n",
      "  0 0 0 0 0 0 0 0 0 0 0 1 1 0 0 0 1 0 0 0 1 1 1 0 0 1 0 0 0 0 1 0 1 0 1 1\n",
      "  1 1 1 1 0 0 0 0 0 1 0 0 0 1 0 0 1 0 1 0 1 1 0 0 0 1 1 1 1 1 0 0 0 0 1 0\n",
      "  1 1 1 0 1 1 0 0 0 1 0 0 1 0 0 0 0 0 1 0 1 0 1 0 0 1 1 1 0 0 1 1 0 1 0 1\n",
      "  0 0 0 0 0 1 0 0 1 0 0 0 1 0 0 0 0 1 0 0 1 0 0 0 0 0 0 0 0]]\n",
      "(209, 64, 64, 3)\n"
     ]
    },
    {
     "data": {
      "text/plain": [
       "<Figure size 640x480 with 1 Axes>"
      ],
      "image/png": "[encoded data removed]"
     },
     "metadata": {},
     "output_type": "display_data"
    }
   ],
   "execution_count": 18
  },
  {
   "metadata": {
    "ExecuteTime": {
     "end_time": "2024-07-03T16:17:59.466768Z",
     "start_time": "2024-07-03T16:17:59.462137Z"
    }
   },
   "cell_type": "code",
   "source": [
    "m_train = train_set_y.shape[1] #训练集里图片的数量。\n",
    "m_test = test_set_y.shape[1] #测试集里图片的数量。\n",
    "num_px = train_set_x_orig.shape[1] #训练、测试集里面的图片的宽度和高度（均为64x64）。\n",
    "\n",
    "#现在看一看我们加载的东西的具体情况\n",
    "print (\"训练集的数量: m_train = \" + str(m_train))\n",
    "print (\"测试集的数量 : m_test = \" + str(m_test))\n",
    "print (\"每张图片的宽/高 : num_px = \" + str(num_px))\n",
    "print (\"每张图片的大小 : (\" + str(num_px) + \", \" + str(num_px) + \", 3)\")\n",
    "print (\"训练集_图片的维数 : \" + str(train_set_x_orig.shape))\n",
    "print (\"训练集_标签的维数 : \" + str(train_set_y.shape))\n",
    "print (\"测试集_图片的维数: \" + str(test_set_x_orig.shape))\n",
    "print (\"测试集_标签的维数: \" + str(test_set_y.shape))\n"
   ],
   "id": "dbf9ed4c8ee2560c",
   "outputs": [
    {
     "name": "stdout",
     "output_type": "stream",
     "text": [
      "训练集的数量: m_train = 209\n",
      "测试集的数量 : m_test = 50\n",
      "每张图片的宽/高 : num_px = 64\n",
      "每张图片的大小 : (64, 64, 3)\n",
      "训练集_图片的维数 : (209, 64, 64, 3)\n",
      "训练集_标签的维数 : (1, 209)\n",
      "测试集_图片的维数: (50, 64, 64, 3)\n",
      "测试集_标签的维数: (1, 50)\n"
     ]
    }
   ],
   "execution_count": 20
  },
  {
   "metadata": {
    "ExecuteTime": {
     "end_time": "2024-07-03T16:18:03.543532Z",
     "start_time": "2024-07-03T16:18:03.538393Z"
    }
   },
   "cell_type": "code",
   "source": [
    "#X_flatten = X.reshape(X.shape [0]，-1).T ＃X.T是X的转置\n",
    "#将训练集的维度降低并转置。\n",
    "train_set_x_flatten  = train_set_x_orig.reshape(train_set_x_orig.shape[0],-1).T\n",
    "#将测试集的维度降低并转置。\n",
    "test_set_x_flatten = test_set_x_orig.reshape(test_set_x_orig.shape[0], -1).T\n",
    "print (\"训练集降维最后的维度： \" + str(train_set_x_flatten.shape))\n",
    "print (\"训练集_标签的维数 : \" + str(train_set_y.shape))\n",
    "print (\"测试集降维之后的维度: \" + str(test_set_x_flatten.shape))\n",
    "print (\"测试集_标签的维数 : \" + str(test_set_y.shape))\n",
    "\n"
   ],
   "id": "96743fed1d68015c",
   "outputs": [
    {
     "name": "stdout",
     "output_type": "stream",
     "text": [
      "训练集降维最后的维度： (12288, 209)\n",
      "训练集_标签的维数 : (1, 209)\n",
      "测试集降维之后的维度: (12288, 50)\n",
      "测试集_标签的维数 : (1, 50)\n"
     ]
    }
   ],
   "execution_count": 21
  },
  {
   "metadata": {
    "ExecuteTime": {
     "end_time": "2024-07-03T16:18:05.856274Z",
     "start_time": "2024-07-03T16:18:05.848330Z"
    }
   },
   "cell_type": "code",
   "source": [
    "train_set_x = train_set_x_flatten / 255\n",
    "test_set_x = test_set_x_flatten / 255\n"
   ],
   "id": "eaa212573e54779b",
   "outputs": [],
   "execution_count": 22
  },
  {
   "metadata": {
    "ExecuteTime": {
     "end_time": "2024-07-03T16:18:07.486068Z",
     "start_time": "2024-07-03T16:18:07.482117Z"
    }
   },
   "cell_type": "code",
   "source": [
    "def sigmoid(z):\n",
    "    s=1/(1+np.exp(-z))\n",
    "    return s\n",
    "\n",
    "def tanh(z):\n",
    "    return (np.exp(z)-np.exp(-z))/(np.exp(z)+np.exp(-z))\n"
   ],
   "id": "ea00cfbaab1e913d",
   "outputs": [],
   "execution_count": 23
  },
  {
   "metadata": {
    "ExecuteTime": {
     "end_time": "2024-07-03T16:18:09.046964Z",
     "start_time": "2024-07-03T16:18:09.043579Z"
    }
   },
   "cell_type": "code",
   "source": [
    "def initialize_with_zeros(dim):\n",
    "    w=np.zeros(dim)\n",
    "    b=0\n",
    "    return w,b"
   ],
   "id": "7f62f08773efa710",
   "outputs": [],
   "execution_count": 24
  },
  {
   "metadata": {
    "ExecuteTime": {
     "end_time": "2024-07-03T16:18:10.051528Z",
     "start_time": "2024-07-03T16:18:10.046709Z"
    }
   },
   "cell_type": "code",
   "source": [
    "def propagate(w,b,X,Y):\n",
    "    m=X.shape[1]\n",
    "    A=sigmoid(np.dot(w.T,X)+b)\n",
    "    cost=(1/m)*np.sum(Y*np.log(A)+(1-Y)*np.log(1-A))\n",
    "    dw=(1/m)*np.dot(X,(A-Y).T)\n",
    "    db=(1/m)*np.sum(A-Y)\n",
    "    cost = np.squeeze(cost)#删除维数为1的列 \n",
    "    grads = {\n",
    "                \"dw\": dw,\n",
    "                \"db\": db\n",
    "             }\n",
    "    return grads , cost\n"
   ],
   "id": "12ddcd31922c9dd3",
   "outputs": [],
   "execution_count": 25
  },
  {
   "metadata": {
    "ExecuteTime": {
     "end_time": "2024-07-03T16:18:11.210983Z",
     "start_time": "2024-07-03T16:18:11.206009Z"
    }
   },
   "cell_type": "code",
   "source": [
    "#测试一下propagate\n",
    "print(\"====================测试propagate====================\")\n",
    "#初始化一些参数\n",
    "w, b, X, Y = np.array([[1], [2]]), 2, np.array([[1,2], [3,4]]), np.array([[1, 0]])\n",
    "grads, cost = propagate(w, b, X, Y)\n",
    "print (\"dw = \" + str(grads[\"dw\"]))\n",
    "print (\"db = \" + str(grads[\"db\"]))\n",
    "print (\"cost = \" + str(cost))\n",
    "print(w.shape)\n"
   ],
   "id": "c93214bdb184b5f1",
   "outputs": [
    {
     "name": "stdout",
     "output_type": "stream",
     "text": [
      "====================测试propagate====================\n",
      "dw = [[0.99993216]\n",
      " [1.99980262]]\n",
      "db = 0.49993523062470574\n",
      "cost = -6.000064773192205\n",
      "(2, 1)\n"
     ]
    }
   ],
   "execution_count": 26
  },
  {
   "metadata": {
    "ExecuteTime": {
     "end_time": "2024-07-03T16:23:12.724758Z",
     "start_time": "2024-07-03T16:23:12.721131Z"
    }
   },
   "cell_type": "code",
   "source": [
    "def optimize(w , b , X , Y , num_iterations , learning_rate , print_cost = False):\n",
    "    \"\"\"\n",
    "    此函数通过运行梯度下降算法来优化w和b\n",
    "    \n",
    "    参数：\n",
    "        w  - 权重，大小不等的数组（num_px * num_px * 3，1）\n",
    "        b  - 偏差，一个标量\n",
    "        X  - 维度为（num_px * num_px * 3，训练数据的数量）的数组。\n",
    "        Y  - 真正的“标签”矢量（如果非猫则为0，如果是猫则为1），矩阵维度为(1,训练数据的数量)\n",
    "        num_iterations  - 优化循环的迭代次数\n",
    "        learning_rate  - 梯度下降更新规则的学习率\n",
    "        print_cost  - 每100步打印一次损失值\n",
    "    \n",
    "    返回：\n",
    "        params  - 包含权重w和偏差b的字典\n",
    "        grads  - 包含权重和偏差相对于成本函数的梯度的字典\n",
    "        成本 - 优化期间计算的所有成本列表，将用于绘制学习曲线。\n",
    "    \n",
    "    提示：\n",
    "    我们需要写下两个步骤并遍历它们：\n",
    "        1）计算当前参数的成本和梯度，使用propagate（）。\n",
    "        2）使用w和b的梯度下降法则更新参数。\n",
    "    \"\"\"\n",
    "    \n",
    "    costs = []\n",
    "    \n",
    "    for i in range(num_iterations):\n",
    "        \n",
    "        grads, cost = propagate(w, b, X, Y)\n",
    "        \n",
    "        dw = grads[\"dw\"]\n",
    "        db = grads[\"db\"]\n",
    "        \n",
    "        w = w - learning_rate * dw\n",
    "        b = b - learning_rate * db\n",
    "        \n",
    "        #记录成本\n",
    "        if i % 100 == 0:\n",
    "            costs.append(cost)\n",
    "        #打印成本数据\n",
    "        if (print_cost) and (i % 100 == 0):\n",
    "            print(\"迭代的次数: %i ， 误差值： %f\" % (i,cost))\n",
    "        \n",
    "    params  = {\n",
    "                \"w\" : w,\n",
    "                \"b\" : b }\n",
    "    grads = {\n",
    "            \"dw\": dw,\n",
    "            \"db\": db } \n",
    "    return params , grads , costs\n"
   ],
   "id": "eab55add5c084de7",
   "outputs": [],
   "execution_count": 37
  },
  {
   "metadata": {
    "ExecuteTime": {
     "end_time": "2024-07-03T16:23:13.607246Z",
     "start_time": "2024-07-03T16:23:13.599422Z"
    }
   },
   "cell_type": "code",
   "source": [
    "#测试optimize\n",
    "print(\"====================测试optimize====================\")\n",
    "w, b, X, Y = np.array([[1], [2]]), 2, np.array([[1,2], [3,4]]), np.array([[1, 0]])\n",
    "params , grads , costs = optimize(w , b , X , Y , num_iterations=100 , learning_rate = 0.009 , print_cost = False)\n",
    "print (\"w = \" + str(params[\"w\"]))\n",
    "print (\"b = \" + str(params[\"b\"]))\n",
    "print (\"dw = \" + str(grads[\"dw\"]))\n",
    "print (\"db = \" + str(grads[\"db\"]))\n",
    "costs = np.squeeze(costs)\n",
    "print(costs)\n"
   ],
   "id": "57734612484ded34",
   "outputs": [
    {
     "name": "stdout",
     "output_type": "stream",
     "text": [
      "====================测试optimize====================\n",
      "w = [[0.1124579 ]\n",
      " [0.23106775]]\n",
      "b = 1.5593049248448891\n",
      "dw = [[0.90158428]\n",
      " [1.76250842]]\n",
      "db = 0.4304620716786828\n",
      "-6.000064773192205\n"
     ]
    }
   ],
   "execution_count": 38
  },
  {
   "metadata": {
    "ExecuteTime": {
     "end_time": "2024-07-03T16:23:14.454988Z",
     "start_time": "2024-07-03T16:23:14.451363Z"
    }
   },
   "cell_type": "code",
   "source": [
    "def predict(w , b , X ):\n",
    "    \"\"\"\n",
    "    使用学习逻辑回归参数logistic （w，b）预测标签是0还是1，\n",
    "    \n",
    "    参数：\n",
    "        w  - 权重，大小不等的数组（num_px * num_px * 3，1）\n",
    "        b  - 偏差，一个标量\n",
    "        X  - 维度为（num_px * num_px * 3，训练数据的数量）的数据\n",
    "    \n",
    "    返回：\n",
    "        Y_prediction  - 包含X中所有图片的所有预测【0 | 1】的一个numpy数组（向量）\n",
    "    \n",
    "    \"\"\"\n",
    "    \n",
    "    m  = X.shape[1] #图片的数量\n",
    "    Y_prediction = np.zeros((1,m)) \n",
    "    w = w.reshape(X.shape[0],1)\n",
    "    \n",
    "    #计预测猫在图片中出现的概率\n",
    "    A = sigmoid(np.dot(w.T , X) + b)\n",
    "    for i in range(A.shape[1]):\n",
    "        #将概率a [0，i]转换为实际预测p [0，i]\n",
    "        Y_prediction[0,i] = 1 if A[0,i] > 0.5 else 0\n",
    "    #使用断言\n",
    "    assert(Y_prediction.shape == (1,m))\n",
    "    \n",
    "    return Y_prediction\n",
    "\n"
   ],
   "id": "8fee2301a3b2aee",
   "outputs": [],
   "execution_count": 39
  },
  {
   "metadata": {
    "ExecuteTime": {
     "end_time": "2024-07-03T16:23:15.085276Z",
     "start_time": "2024-07-03T16:23:15.081655Z"
    }
   },
   "cell_type": "code",
   "source": [
    "#测试predict\n",
    "print(\"====================测试predict====================\")\n",
    "w, b, X, Y = np.array([[1], [2]]), 2, np.array([[1,2], [3,4]]), np.array([[1, 0]])\n",
    "print(\"predictions = \" + str(predict(w, b, X)))\n"
   ],
   "id": "85e5c041754c7515",
   "outputs": [
    {
     "name": "stdout",
     "output_type": "stream",
     "text": [
      "====================测试predict====================\n",
      "predictions = [[1. 1.]]\n"
     ]
    }
   ],
   "execution_count": 40
  },
  {
   "metadata": {
    "ExecuteTime": {
     "end_time": "2024-07-03T16:23:15.804183Z",
     "start_time": "2024-07-03T16:23:15.800352Z"
    }
   },
   "cell_type": "code",
   "source": [
    "def model(X_train , Y_train , X_test , Y_test , num_iterations = 2000 , learning_rate = 0.5 , print_cost = False):\n",
    "    \"\"\"\n",
    "    通过调用之前实现的函数来构建逻辑回归模型\n",
    "    \n",
    "    参数：\n",
    "        X_train  - numpy的数组,维度为（num_px * num_px * 3，m_train）的训练集\n",
    "        Y_train  - numpy的数组,维度为（1，m_train）（矢量）的训练标签集\n",
    "        X_test   - numpy的数组,维度为（num_px * num_px * 3，m_test）的测试集\n",
    "        Y_test   - numpy的数组,维度为（1，m_test）的（向量）的测试标签集\n",
    "        num_iterations  - 表示用于优化参数的迭代次数的超参数\n",
    "        learning_rate  - 表示optimize（）更新规则中使用的学习速率的超参数\n",
    "        print_cost  - 设置为true以每100次迭代打印成本\n",
    "    \n",
    "    返回：\n",
    "        d  - 包含有关模型信息的字典。\n",
    "    \"\"\"\n",
    "    w , b = initialize_with_zeros(X_train.shape[0])\n",
    "    \n",
    "    parameters , grads , costs = optimize(w , b , X_train , Y_train,num_iterations , learning_rate , print_cost)\n",
    "    \n",
    "    #从字典“参数”中检索参数w和b\n",
    "    w , b = parameters[\"w\"] , parameters[\"b\"]\n",
    "    \n",
    "    #预测测试/训练集的例子\n",
    "    Y_prediction_test = predict(w , b, X_test)\n",
    "    Y_prediction_train = predict(w , b, X_train)\n",
    "    \n",
    "    #打印训练后的准确性\n",
    "    print(\"训练集准确性：\"  , format(100 - np.mean(np.abs(Y_prediction_train - Y_train)) * 100) ,\"%\")\n",
    "    print(\"测试集准确性：\"  , format(100 - np.mean(np.abs(Y_prediction_test - Y_test)) * 100) ,\"%\")\n",
    "    \n",
    "    d = {\n",
    "            \"costs\" : costs,\n",
    "            \"Y_prediction_test\" : Y_prediction_test,\n",
    "            \"Y_prediciton_train\" : Y_prediction_train,\n",
    "            \"w\" : w,\n",
    "            \"b\" : b,\n",
    "            \"learning_rate\" : learning_rate,\n",
    "            \"num_iterations\" : num_iterations }\n",
    "    return d\n",
    "\n"
   ],
   "id": "e2808bc721a8c3c0",
   "outputs": [],
   "execution_count": 41
  },
  {
   "metadata": {
    "ExecuteTime": {
     "end_time": "2024-07-03T16:23:24.486804Z",
     "start_time": "2024-07-03T16:23:16.848816Z"
    }
   },
   "cell_type": "code",
   "source": [
    "print(\"====================测试model====================\")     \n",
    "#这里加载的是真实的数据，请参见上面的代码部分。\n",
    "d = model(train_set_x, train_set_y, test_set_x, test_set_y, num_iterations = 2000, learning_rate = 0.005, print_cost = True)\n"
   ],
   "id": "3ff2d1645c21b4ce",
   "outputs": [
    {
     "name": "stdout",
     "output_type": "stream",
     "text": [
      "====================测试model====================\n",
      "迭代的次数: 0 ， 误差值： -0.693147\n"
     ]
    },
    {
     "ename": "KeyboardInterrupt",
     "evalue": "",
     "output_type": "error",
     "traceback": [
      "\u001B[1;31m---------------------------------------------------------------------------\u001B[0m",
      "\u001B[1;31mKeyboardInterrupt\u001B[0m                         Traceback (most recent call last)",
      "Cell \u001B[1;32mIn[42], line 3\u001B[0m\n\u001B[0;32m      1\u001B[0m \u001B[38;5;28mprint\u001B[39m(\u001B[38;5;124m\"\u001B[39m\u001B[38;5;124m====================测试model====================\u001B[39m\u001B[38;5;124m\"\u001B[39m)     \n\u001B[0;32m      2\u001B[0m \u001B[38;5;66;03m#这里加载的是真实的数据，请参见上面的代码部分。\u001B[39;00m\n\u001B[1;32m----> 3\u001B[0m d \u001B[38;5;241m=\u001B[39m \u001B[43mmodel\u001B[49m\u001B[43m(\u001B[49m\u001B[43mtrain_set_x\u001B[49m\u001B[43m,\u001B[49m\u001B[43m \u001B[49m\u001B[43mtrain_set_y\u001B[49m\u001B[43m,\u001B[49m\u001B[43m \u001B[49m\u001B[43mtest_set_x\u001B[49m\u001B[43m,\u001B[49m\u001B[43m \u001B[49m\u001B[43mtest_set_y\u001B[49m\u001B[43m,\u001B[49m\u001B[43m \u001B[49m\u001B[43mnum_iterations\u001B[49m\u001B[43m \u001B[49m\u001B[38;5;241;43m=\u001B[39;49m\u001B[43m \u001B[49m\u001B[38;5;241;43m2000\u001B[39;49m\u001B[43m,\u001B[49m\u001B[43m \u001B[49m\u001B[43mlearning_rate\u001B[49m\u001B[43m \u001B[49m\u001B[38;5;241;43m=\u001B[39;49m\u001B[43m \u001B[49m\u001B[38;5;241;43m0.005\u001B[39;49m\u001B[43m,\u001B[49m\u001B[43m \u001B[49m\u001B[43mprint_cost\u001B[49m\u001B[43m \u001B[49m\u001B[38;5;241;43m=\u001B[39;49m\u001B[43m \u001B[49m\u001B[38;5;28;43;01mTrue\u001B[39;49;00m\u001B[43m)\u001B[49m\n",
      "Cell \u001B[1;32mIn[41], line 19\u001B[0m, in \u001B[0;36mmodel\u001B[1;34m(X_train, Y_train, X_test, Y_test, num_iterations, learning_rate, print_cost)\u001B[0m\n\u001B[0;32m      2\u001B[0m \u001B[38;5;250m\u001B[39m\u001B[38;5;124;03m\"\"\"\u001B[39;00m\n\u001B[0;32m      3\u001B[0m \u001B[38;5;124;03m通过调用之前实现的函数来构建逻辑回归模型\u001B[39;00m\n\u001B[0;32m      4\u001B[0m \u001B[38;5;124;03m\u001B[39;00m\n\u001B[1;32m   (...)\u001B[0m\n\u001B[0;32m     15\u001B[0m \u001B[38;5;124;03m    d  - 包含有关模型信息的字典。\u001B[39;00m\n\u001B[0;32m     16\u001B[0m \u001B[38;5;124;03m\"\"\"\u001B[39;00m\n\u001B[0;32m     17\u001B[0m w , b \u001B[38;5;241m=\u001B[39m initialize_with_zeros(X_train\u001B[38;5;241m.\u001B[39mshape[\u001B[38;5;241m0\u001B[39m])\n\u001B[1;32m---> 19\u001B[0m parameters , grads , costs \u001B[38;5;241m=\u001B[39m \u001B[43moptimize\u001B[49m\u001B[43m(\u001B[49m\u001B[43mw\u001B[49m\u001B[43m \u001B[49m\u001B[43m,\u001B[49m\u001B[43m \u001B[49m\u001B[43mb\u001B[49m\u001B[43m \u001B[49m\u001B[43m,\u001B[49m\u001B[43m \u001B[49m\u001B[43mX_train\u001B[49m\u001B[43m \u001B[49m\u001B[43m,\u001B[49m\u001B[43m \u001B[49m\u001B[43mY_train\u001B[49m\u001B[43m,\u001B[49m\u001B[43mnum_iterations\u001B[49m\u001B[43m \u001B[49m\u001B[43m,\u001B[49m\u001B[43m \u001B[49m\u001B[43mlearning_rate\u001B[49m\u001B[43m \u001B[49m\u001B[43m,\u001B[49m\u001B[43m \u001B[49m\u001B[43mprint_cost\u001B[49m\u001B[43m)\u001B[49m\n\u001B[0;32m     21\u001B[0m \u001B[38;5;66;03m#从字典“参数”中检索参数w和b\u001B[39;00m\n\u001B[0;32m     22\u001B[0m w , b \u001B[38;5;241m=\u001B[39m parameters[\u001B[38;5;124m\"\u001B[39m\u001B[38;5;124mw\u001B[39m\u001B[38;5;124m\"\u001B[39m] , parameters[\u001B[38;5;124m\"\u001B[39m\u001B[38;5;124mb\u001B[39m\u001B[38;5;124m\"\u001B[39m]\n",
      "Cell \u001B[1;32mIn[37], line 41\u001B[0m, in \u001B[0;36moptimize\u001B[1;34m(w, b, X, Y, num_iterations, learning_rate, print_cost)\u001B[0m\n\u001B[0;32m     39\u001B[0m         costs\u001B[38;5;241m.\u001B[39mappend(cost)\n\u001B[0;32m     40\u001B[0m     \u001B[38;5;66;03m#打印成本数据\u001B[39;00m\n\u001B[1;32m---> 41\u001B[0m     \u001B[38;5;28;01mif\u001B[39;00m (print_cost) \u001B[38;5;129;01mand\u001B[39;00m (i \u001B[38;5;241m%\u001B[39m \u001B[38;5;241m100\u001B[39m \u001B[38;5;241m==\u001B[39m \u001B[38;5;241m0\u001B[39m):\n\u001B[0;32m     42\u001B[0m         \u001B[38;5;28mprint\u001B[39m(\u001B[38;5;124m\"\u001B[39m\u001B[38;5;124m迭代的次数: \u001B[39m\u001B[38;5;132;01m%i\u001B[39;00m\u001B[38;5;124m ， 误差值： \u001B[39m\u001B[38;5;132;01m%f\u001B[39;00m\u001B[38;5;124m\"\u001B[39m \u001B[38;5;241m%\u001B[39m (i,cost))\n\u001B[0;32m     44\u001B[0m params  \u001B[38;5;241m=\u001B[39m {\n\u001B[0;32m     45\u001B[0m             \u001B[38;5;124m\"\u001B[39m\u001B[38;5;124mw\u001B[39m\u001B[38;5;124m\"\u001B[39m : w,\n\u001B[0;32m     46\u001B[0m             \u001B[38;5;124m\"\u001B[39m\u001B[38;5;124mb\u001B[39m\u001B[38;5;124m\"\u001B[39m : b }\n",
      "\u001B[1;31mKeyboardInterrupt\u001B[0m: "
     ]
    }
   ],
   "execution_count": 42
  },
  {
   "metadata": {},
   "cell_type": "code",
   "outputs": [],
   "execution_count": null,
   "source": [
    "#绘制图\n",
    "costs = np.squeeze(d['costs'])\n",
    "plt.plot(costs)\n",
    "plt.ylabel('cost')\n",
    "plt.xlabel('iterations (per hundreds)')\n",
    "plt.title(\"Learning rate =\" + str(d[\"learning_rate\"]))\n",
    "plt.show()\n"
   ],
   "id": "de1ebaf198da621c"
  }
 ],
 "metadata": {
  "kernelspec": {
   "display_name": "Python 3",
   "language": "python",
   "name": "python3"
  },
  "language_info": {
   "codemirror_mode": {
    "name": "ipython",
    "version": 2
   },
   "file_extension": ".py",
   "mimetype": "text/x-python",
   "name": "python",
   "nbconvert_exporter": "python",
   "pygments_lexer": "ipython2",
   "version": "2.7.6"
  }
 },
 "nbformat": 4,
 "nbformat_minor": 5
}
